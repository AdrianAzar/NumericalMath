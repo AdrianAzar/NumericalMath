{
 "cells": [
  {
   "cell_type": "code",
   "execution_count": null,
   "id": "973dd28e-2ec3-4785-9ddd-0acdf496adc0",
   "metadata": {},
   "outputs": [],
   "source": [
    "import numpy as np\n",
    "import matplotlib.pyplot as plt\n",
    "def f(x,y):\n",
    "    return 10*x*y    #pick any function knowing that dy/dx=f(x,y)\n",
    "\n",
    "\n",
    "a=float(input('a= '))\n",
    "b=float(input('b= '))\n",
    "N=int(input('max= '))\n",
    "h=(b-a)/N\n",
    "x=np.zeros(N+1)\n",
    "y=np.zeros(N+1)\n",
    "y[0]=1\n",
    "x[0]=a\n",
    "for i in range(N):\n",
    "    k1=h*f(x[i],y[i])\n",
    "    k2=h*f(x[i]+h,y[i]+k1)\n",
    "    y[i+1]=y[i]+0.5*(k2+k1)\n",
    "    x[i+1]=x[0]+i*h\n",
    "\n",
    "plt.plot(x,y)\n",
    "plt.show()"
   ]
  },
  {
   "cell_type": "code",
   "execution_count": null,
   "id": "3c6aa49e-d86f-4705-a9d7-89d1cdb1f799",
   "metadata": {},
   "outputs": [],
   "source": []
  }
 ],
 "metadata": {
  "kernelspec": {
   "display_name": "Python 3 (ipykernel)",
   "language": "python",
   "name": "python3"
  },
  "language_info": {
   "codemirror_mode": {
    "name": "ipython",
    "version": 3
   },
   "file_extension": ".py",
   "mimetype": "text/x-python",
   "name": "python",
   "nbconvert_exporter": "python",
   "pygments_lexer": "ipython3",
   "version": "3.13.3"
  }
 },
 "nbformat": 4,
 "nbformat_minor": 5
}
